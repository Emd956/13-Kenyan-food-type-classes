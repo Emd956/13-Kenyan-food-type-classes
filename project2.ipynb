{
 "cells": [
  {
   "cell_type": "markdown",
   "id": "ec4c59e0",
   "metadata": {
    "papermill": {
     "duration": 0.008516,
     "end_time": "2023-11-03T18:47:59.993419",
     "exception": false,
     "start_time": "2023-11-03T18:47:59.984903",
     "status": "completed"
    },
    "tags": []
   },
   "source": [
    "# <font style=\"color:blue\">Project 2: Kaggle Competition - Classification</font>\n",
    "\n",
    "#### Maximum Points: 100\n",
    "\n",
    "<div>\n",
    "    <table>\n",
    "        <tr><td><h3>Sr. no.</h3></td> <td><h3>Section</h3></td> <td><h3>Points</h3></td> </tr>\n",
    "        <tr><td><h3>1</h3></td> <td><h3>Data Loader</h3></td> <td><h3>10</h3></td> </tr>\n",
    "        <tr><td><h3>2</h3></td> <td><h3>Configuration</h3></td> <td><h3>5</h3></td> </tr>\n",
    "        <tr><td><h3>3</h3></td> <td><h3>Evaluation Metric</h3></td> <td><h3>10</h3></td> </tr>\n",
    "        <tr><td><h3>4</h3></td> <td><h3>Train and Validation</h3></td> <td><h3>5</h3></td> </tr>\n",
    "        <tr><td><h3>5</h3></td> <td><h3>Model</h3></td> <td><h3>5</h3></td> </tr>\n",
    "        <tr><td><h3>6</h3></td> <td><h3>Utils</h3></td> <td><h3>5</h3></td> </tr>\n",
    "        <tr><td><h3>7</h3></td> <td><h3>Experiment</h3></td><td><h3>5</h3></td> </tr>\n",
    "        <tr><td><h3>8</h3></td> <td><h3>TensorBoard Dev Scalars Log Link</h3></td> <td><h3>5</h3></td> </tr>\n",
    "        <tr><td><h3>9</h3></td> <td><h3>Kaggle Profile Link</h3></td> <td><h3>50</h3></td> </tr>\n",
    "    </table>\n",
    "</div>\n"
   ]
  },
  {
   "cell_type": "markdown",
   "id": "c483ba72",
   "metadata": {
    "papermill": {
     "duration": 0.007889,
     "end_time": "2023-11-03T18:48:00.009539",
     "exception": false,
     "start_time": "2023-11-03T18:48:00.001650",
     "status": "completed"
    },
    "tags": []
   },
   "source": [
    "## <font style=\"color:green\">1. Data Loader [10 Points]</font>\n",
    "\n",
    "In this section, you have to write a class or methods, which will be used to get training and validation data loader.\n",
    "\n",
    "You need to write a custom dataset class to load data.\n",
    "\n",
    "**Note; There is   no separate validation data. , You will thus have to create your own validation set, by dividing the train data into train and validation data. Usually, we do 80:20 ratio for train and validation, respectively.**\n",
    "\n",
    "\n",
    "For example:\n",
    "\n",
    "```python\n",
    "class KenyanFood13Dataset(Dataset):\n",
    "    \"\"\"\n",
    "    \n",
    "    \"\"\"\n",
    "    \n",
    "    def __init__(self, *args):\n",
    "    ....\n",
    "    ...\n",
    "    \n",
    "    def __getitem__(self, idx):\n",
    "    ...\n",
    "    ...\n",
    "    \n",
    "    \n",
    "```\n",
    "\n",
    "```\n",
    "def get_data(args1, *agrs):\n",
    "    ....\n",
    "    ....\n",
    "    return train_loader, test_loader\n",
    "```"
   ]
  },
  {
   "cell_type": "code",
   "execution_count": null,
   "id": "57d89137",
   "metadata": {
    "papermill": {
     "duration": 0.007639,
     "end_time": "2023-11-03T18:48:00.025261",
     "exception": false,
     "start_time": "2023-11-03T18:48:00.017622",
     "status": "completed"
    },
    "tags": []
   },
   "outputs": [],
   "source": []
  },
  {
   "cell_type": "code",
   "execution_count": null,
   "id": "e742dc1a",
   "metadata": {
    "papermill": {
     "duration": 0.007596,
     "end_time": "2023-11-03T18:48:00.041370",
     "exception": false,
     "start_time": "2023-11-03T18:48:00.033774",
     "status": "completed"
    },
    "tags": []
   },
   "outputs": [],
   "source": []
  },
  {
   "cell_type": "code",
   "execution_count": null,
   "id": "17e0d9f7",
   "metadata": {
    "papermill": {
     "duration": 0.007735,
     "end_time": "2023-11-03T18:48:00.057230",
     "exception": false,
     "start_time": "2023-11-03T18:48:00.049495",
     "status": "completed"
    },
    "tags": []
   },
   "outputs": [],
   "source": []
  },
  {
   "cell_type": "markdown",
   "id": "65991860",
   "metadata": {
    "papermill": {
     "duration": 0.007945,
     "end_time": "2023-11-03T18:48:00.073195",
     "exception": false,
     "start_time": "2023-11-03T18:48:00.065250",
     "status": "completed"
    },
    "tags": []
   },
   "source": [
    "## <font style=\"color:green\">2. Configuration [5 Points]</font>\n",
    "\n",
    "**Define your configuration here.**\n",
    "\n",
    "For example:\n",
    "\n",
    "\n",
    "```python\n",
    "@dataclass\n",
    "class TrainingConfiguration:\n",
    "    '''\n",
    "    Describes configuration of the training process\n",
    "    '''\n",
    "    batch_size: int = 10 \n",
    "    epochs_count: int = 50  \n",
    "    init_learning_rate: float = 0.1  # initial learning rate for lr scheduler\n",
    "    log_interval: int = 5  \n",
    "    test_interval: int = 1  \n",
    "    data_root: str = \"/kaggle/input/pytorch-opencv-course-classification/\" \n",
    "    num_workers: int = 2  \n",
    "    device: str = 'cuda'  \n",
    "    \n",
    "```"
   ]
  },
  {
   "cell_type": "code",
   "execution_count": null,
   "id": "a3dc443e",
   "metadata": {
    "papermill": {
     "duration": 0.007678,
     "end_time": "2023-11-03T18:48:00.088947",
     "exception": false,
     "start_time": "2023-11-03T18:48:00.081269",
     "status": "completed"
    },
    "tags": []
   },
   "outputs": [],
   "source": []
  },
  {
   "cell_type": "code",
   "execution_count": null,
   "id": "4e3380fd",
   "metadata": {
    "papermill": {
     "duration": 0.007794,
     "end_time": "2023-11-03T18:48:00.104653",
     "exception": false,
     "start_time": "2023-11-03T18:48:00.096859",
     "status": "completed"
    },
    "tags": []
   },
   "outputs": [],
   "source": []
  },
  {
   "cell_type": "code",
   "execution_count": null,
   "id": "6692436d",
   "metadata": {
    "papermill": {
     "duration": 0.007616,
     "end_time": "2023-11-03T18:48:00.120246",
     "exception": false,
     "start_time": "2023-11-03T18:48:00.112630",
     "status": "completed"
    },
    "tags": []
   },
   "outputs": [],
   "source": []
  },
  {
   "cell_type": "markdown",
   "id": "fc56bc4a",
   "metadata": {
    "papermill": {
     "duration": 0.007628,
     "end_time": "2023-11-03T18:48:00.136002",
     "exception": false,
     "start_time": "2023-11-03T18:48:00.128374",
     "status": "completed"
    },
    "tags": []
   },
   "source": [
    "## <font style=\"color:green\">3. Evaluation Metric [10 Points]</font>\n",
    "\n",
    "**Define methods or classes that will be used in model evaluation. For example, accuracy, f1-score etc.**"
   ]
  },
  {
   "cell_type": "code",
   "execution_count": null,
   "id": "ffbf2839",
   "metadata": {
    "papermill": {
     "duration": 0.007742,
     "end_time": "2023-11-03T18:48:00.151733",
     "exception": false,
     "start_time": "2023-11-03T18:48:00.143991",
     "status": "completed"
    },
    "tags": []
   },
   "outputs": [],
   "source": []
  },
  {
   "cell_type": "code",
   "execution_count": null,
   "id": "d34138ff",
   "metadata": {
    "papermill": {
     "duration": 0.007752,
     "end_time": "2023-11-03T18:48:00.167599",
     "exception": false,
     "start_time": "2023-11-03T18:48:00.159847",
     "status": "completed"
    },
    "tags": []
   },
   "outputs": [],
   "source": []
  },
  {
   "cell_type": "code",
   "execution_count": null,
   "id": "539beb71",
   "metadata": {
    "papermill": {
     "duration": 0.008232,
     "end_time": "2023-11-03T18:48:00.183778",
     "exception": false,
     "start_time": "2023-11-03T18:48:00.175546",
     "status": "completed"
    },
    "tags": []
   },
   "outputs": [],
   "source": []
  },
  {
   "cell_type": "markdown",
   "id": "e294381d",
   "metadata": {
    "papermill": {
     "duration": 0.008012,
     "end_time": "2023-11-03T18:48:00.200280",
     "exception": false,
     "start_time": "2023-11-03T18:48:00.192268",
     "status": "completed"
    },
    "tags": []
   },
   "source": [
    "## <font style=\"color:green\">4. Train and Validation [5 Points]</font>\n",
    "\n",
    "\n",
    "**Write the methods or classes to be used for training and validation.**"
   ]
  },
  {
   "cell_type": "code",
   "execution_count": null,
   "id": "f7dd09e6",
   "metadata": {
    "papermill": {
     "duration": 0.007928,
     "end_time": "2023-11-03T18:48:00.217294",
     "exception": false,
     "start_time": "2023-11-03T18:48:00.209366",
     "status": "completed"
    },
    "tags": []
   },
   "outputs": [],
   "source": []
  },
  {
   "cell_type": "code",
   "execution_count": null,
   "id": "7279d5af",
   "metadata": {
    "papermill": {
     "duration": 0.007649,
     "end_time": "2023-11-03T18:48:00.233084",
     "exception": false,
     "start_time": "2023-11-03T18:48:00.225435",
     "status": "completed"
    },
    "tags": []
   },
   "outputs": [],
   "source": []
  },
  {
   "cell_type": "code",
   "execution_count": null,
   "id": "a4982e31",
   "metadata": {
    "papermill": {
     "duration": 0.007721,
     "end_time": "2023-11-03T18:48:00.248768",
     "exception": false,
     "start_time": "2023-11-03T18:48:00.241047",
     "status": "completed"
    },
    "tags": []
   },
   "outputs": [],
   "source": []
  },
  {
   "cell_type": "markdown",
   "id": "858e53ad",
   "metadata": {
    "papermill": {
     "duration": 0.008225,
     "end_time": "2023-11-03T18:48:00.265168",
     "exception": false,
     "start_time": "2023-11-03T18:48:00.256943",
     "status": "completed"
    },
    "tags": []
   },
   "source": [
    "## <font style=\"color:green\">5. Model [5 Points]</font>\n",
    "\n",
    "**Define your model in this section.**\n",
    "\n",
    "**You are allowed to use any pre-trained model.**"
   ]
  },
  {
   "cell_type": "code",
   "execution_count": null,
   "id": "4ffddf71",
   "metadata": {
    "papermill": {
     "duration": 0.007596,
     "end_time": "2023-11-03T18:48:00.281375",
     "exception": false,
     "start_time": "2023-11-03T18:48:00.273779",
     "status": "completed"
    },
    "tags": []
   },
   "outputs": [],
   "source": []
  },
  {
   "cell_type": "code",
   "execution_count": null,
   "id": "2331d88b",
   "metadata": {
    "papermill": {
     "duration": 0.008237,
     "end_time": "2023-11-03T18:48:00.298263",
     "exception": false,
     "start_time": "2023-11-03T18:48:00.290026",
     "status": "completed"
    },
    "tags": []
   },
   "outputs": [],
   "source": []
  },
  {
   "cell_type": "code",
   "execution_count": null,
   "id": "162e7804",
   "metadata": {
    "papermill": {
     "duration": 0.007733,
     "end_time": "2023-11-03T18:48:00.314316",
     "exception": false,
     "start_time": "2023-11-03T18:48:00.306583",
     "status": "completed"
    },
    "tags": []
   },
   "outputs": [],
   "source": []
  },
  {
   "cell_type": "markdown",
   "id": "e79aac9c",
   "metadata": {
    "papermill": {
     "duration": 0.009024,
     "end_time": "2023-11-03T18:48:00.331870",
     "exception": false,
     "start_time": "2023-11-03T18:48:00.322846",
     "status": "completed"
    },
    "tags": []
   },
   "source": [
    "## <font style=\"color:green\">6. Utils [5 Points]</font>\n",
    "\n",
    "**Define those methods or classes, which have  not been covered in the above sections.**"
   ]
  },
  {
   "cell_type": "code",
   "execution_count": null,
   "id": "70264fb7",
   "metadata": {
    "papermill": {
     "duration": 0.007709,
     "end_time": "2023-11-03T18:48:00.348331",
     "exception": false,
     "start_time": "2023-11-03T18:48:00.340622",
     "status": "completed"
    },
    "tags": []
   },
   "outputs": [],
   "source": []
  },
  {
   "cell_type": "code",
   "execution_count": null,
   "id": "d2467809",
   "metadata": {
    "papermill": {
     "duration": 0.007749,
     "end_time": "2023-11-03T18:48:00.364345",
     "exception": false,
     "start_time": "2023-11-03T18:48:00.356596",
     "status": "completed"
    },
    "tags": []
   },
   "outputs": [],
   "source": []
  },
  {
   "cell_type": "code",
   "execution_count": null,
   "id": "773b8c71",
   "metadata": {
    "papermill": {
     "duration": 0.009438,
     "end_time": "2023-11-03T18:48:00.383248",
     "exception": false,
     "start_time": "2023-11-03T18:48:00.373810",
     "status": "completed"
    },
    "tags": []
   },
   "outputs": [],
   "source": []
  },
  {
   "cell_type": "markdown",
   "id": "070b766e",
   "metadata": {
    "papermill": {
     "duration": 0.007654,
     "end_time": "2023-11-03T18:48:00.399149",
     "exception": false,
     "start_time": "2023-11-03T18:48:00.391495",
     "status": "completed"
    },
    "tags": []
   },
   "source": [
    "## <font style=\"color:green\">7. Experiment [5 Points]</font>\n",
    "\n",
    "**Choose your optimizer and LR-scheduler and use the above methods and classes to train your model.**"
   ]
  },
  {
   "cell_type": "code",
   "execution_count": null,
   "id": "da917d58",
   "metadata": {
    "papermill": {
     "duration": 0.007737,
     "end_time": "2023-11-03T18:48:00.415115",
     "exception": false,
     "start_time": "2023-11-03T18:48:00.407378",
     "status": "completed"
    },
    "tags": []
   },
   "outputs": [],
   "source": []
  },
  {
   "cell_type": "code",
   "execution_count": null,
   "id": "7eec5ee1",
   "metadata": {
    "papermill": {
     "duration": 0.00777,
     "end_time": "2023-11-03T18:48:00.431058",
     "exception": false,
     "start_time": "2023-11-03T18:48:00.423288",
     "status": "completed"
    },
    "tags": []
   },
   "outputs": [],
   "source": []
  },
  {
   "cell_type": "code",
   "execution_count": null,
   "id": "a1f1ba05",
   "metadata": {
    "papermill": {
     "duration": 0.00822,
     "end_time": "2023-11-03T18:48:00.447348",
     "exception": false,
     "start_time": "2023-11-03T18:48:00.439128",
     "status": "completed"
    },
    "tags": []
   },
   "outputs": [],
   "source": []
  },
  {
   "cell_type": "markdown",
   "id": "8fe021e4",
   "metadata": {
    "papermill": {
     "duration": 0.007819,
     "end_time": "2023-11-03T18:48:00.463464",
     "exception": false,
     "start_time": "2023-11-03T18:48:00.455645",
     "status": "completed"
    },
    "tags": []
   },
   "source": [
    "## <font style=\"color:green\">8. TensorBoard Dev Scalars Log Link [5 Points]</font>\n",
    "\n",
    "**Share your TensorBoard scalars logs link here You can also share (not mandatory) your GitHub link, if you have pushed this project in GitHub.**\n",
    "\n",
    "\n",
    "For example, [Find Project2 logs here](https://tensorboard.dev/experiment/kMJ4YU0wSNG0IkjrluQ5Dg/#scalars)."
   ]
  },
  {
   "cell_type": "markdown",
   "id": "96ce912c",
   "metadata": {
    "papermill": {
     "duration": 0.007715,
     "end_time": "2023-11-03T18:48:00.479415",
     "exception": false,
     "start_time": "2023-11-03T18:48:00.471700",
     "status": "completed"
    },
    "tags": []
   },
   "source": []
  },
  {
   "cell_type": "markdown",
   "id": "977d6150",
   "metadata": {
    "papermill": {
     "duration": 0.009399,
     "end_time": "2023-11-03T18:48:00.497240",
     "exception": false,
     "start_time": "2023-11-03T18:48:00.487841",
     "status": "completed"
    },
    "tags": []
   },
   "source": [
    "## <font style=\"color:green\">9. Kaggle Profile Link [50 Points]</font>\n",
    "\n",
    "**Share your Kaggle profile link  with us here to score , points in  the competition.**\n",
    "\n",
    "**For full points, you need a minimum accuracy of `75%` on the test data. If accuracy is less than `70%`, you gain  no points for this section.**\n",
    "\n",
    "\n",
    "**Submit `submission.csv` (prediction for images in `test.csv`), in the `Submit Predictions` tab in Kaggle, to get evaluated for  this section.**"
   ]
  }
 ],
 "metadata": {
  "kernelspec": {
   "display_name": "Python 3",
   "language": "python",
   "name": "python3"
  },
  "language_info": {
   "codemirror_mode": {
    "name": "ipython",
    "version": 3
   },
   "file_extension": ".py",
   "mimetype": "text/x-python",
   "name": "python",
   "nbconvert_exporter": "python",
   "pygments_lexer": "ipython3",
   "version": "3.10.12"
  },
  "papermill": {
   "default_parameters": {},
   "duration": 4.780297,
   "end_time": "2023-11-03T18:48:00.925445",
   "environment_variables": {},
   "exception": null,
   "input_path": "__notebook__.ipynb",
   "output_path": "__notebook__.ipynb",
   "parameters": {},
   "start_time": "2023-11-03T18:47:56.145148",
   "version": "2.4.0"
  }
 },
 "nbformat": 4,
 "nbformat_minor": 5
}
